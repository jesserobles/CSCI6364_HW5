{
 "cells": [
  {
   "cell_type": "markdown",
   "metadata": {},
   "source": [
    "Homework 5:  CSCI 6364/4364\n",
    "\n",
    "In this assignment, you will become familiar with the deep learning library Pytorch through the construction of a feed-forward neural network and a convolutional neural network applied to the MNIST dataset.  In various parts of the notebook, there will be places to fill in."
   ]
  },
  {
   "cell_type": "code",
   "execution_count": 1,
   "metadata": {},
   "outputs": [],
   "source": [
    "import numpy as np # to handle matrix and data operation\n",
    "import pandas as pd # to read csv and handle dataframe\n",
    "\n",
    "import torch\n",
    "import torch.nn as nn\n",
    "import torch.nn.functional as F\n",
    "import torch.utils.data\n",
    "from torch.autograd import Variable\n",
    "import torch.optim as optim\n",
    "\n",
    "import matplotlib.pyplot as plt\n",
    "\n",
    "from sklearn.model_selection import train_test_split\n",
    "\n",
    "# CUDA?\n",
    "cuda = torch.cuda.is_available()\n",
    "\n",
    "# For reproducibility\n",
    "SEED = 1\n",
    "torch.manual_seed(SEED)\n",
    "\n",
    "if cuda:\n",
    "    torch.cuda.manual_seed(SEED)"
   ]
  },
  {
   "cell_type": "markdown",
   "metadata": {},
   "source": [
    "Download and use the MNIST dataset from Homework 1."
   ]
  },
  {
   "cell_type": "code",
   "execution_count": 2,
   "metadata": {},
   "outputs": [
    {
     "name": "stdout",
     "output_type": "stream",
     "text": [
      "(42000, 785)\n"
     ]
    }
   ],
   "source": [
    "dataset_filename = \"data_mnist.csv\"\n",
    "df = pd.read_csv(dataset_filename)\n",
    "print(df.shape)"
   ]
  },
  {
   "cell_type": "code",
   "execution_count": 3,
   "metadata": {},
   "outputs": [],
   "source": [
    "y = df['label'].values\n",
    "X =  df.drop(['label'], axis=1).values\n",
    "\n",
    "\n",
    "X_train, X_test, y_train, y_test = train_test_split(X, y, test_size=0.15)"
   ]
  },
  {
   "cell_type": "code",
   "execution_count": 4,
   "metadata": {},
   "outputs": [
    {
     "name": "stdout",
     "output_type": "stream",
     "text": [
      "(6300,)\n"
     ]
    }
   ],
   "source": [
    "print(y_test.shape)"
   ]
  },
  {
   "cell_type": "code",
   "execution_count": 5,
   "metadata": {},
   "outputs": [],
   "source": [
    "BATCH_SIZE = 32\n",
    "\n",
    "torch_X_train = torch.from_numpy(X_train).type(torch.LongTensor)\n",
    "torch_y_train = torch.from_numpy(y_train).type(torch.LongTensor) # data type is long\n",
    "\n",
    "# create feature and targets tensor for test set.\n",
    "torch_X_test = torch.from_numpy(X_test).type(torch.LongTensor)\n",
    "torch_y_test = torch.from_numpy(y_test).type(torch.LongTensor) # data type is long\n",
    "\n",
    "# Pytorch train and test sets\n",
    "train = torch.utils.data.TensorDataset(torch_X_train,torch_y_train)\n",
    "test = torch.utils.data.TensorDataset(torch_X_test,torch_y_test)\n",
    "\n",
    "# data loader\n",
    "train_loader = torch.utils.data.DataLoader(train, batch_size = BATCH_SIZE, shuffle = False)\n",
    "test_loader = torch.utils.data.DataLoader(test, batch_size = BATCH_SIZE, shuffle = False)"
   ]
  },
  {
   "cell_type": "code",
   "execution_count": 6,
   "metadata": {},
   "outputs": [
    {
     "data": {
      "text/plain": [
       "(42000, 784)"
      ]
     },
     "execution_count": 6,
     "metadata": {},
     "output_type": "execute_result"
    }
   ],
   "source": [
    "X.shape"
   ]
  },
  {
   "cell_type": "code",
   "execution_count": 7,
   "metadata": {},
   "outputs": [
    {
     "name": "stdout",
     "output_type": "stream",
     "text": [
      "MLP(\n",
      "  (linear1): Linear(in_features=784, out_features=250, bias=True)\n",
      "  (linear2): Linear(in_features=250, out_features=100, bias=True)\n",
      "  (linear3): Linear(in_features=100, out_features=10, bias=True)\n",
      ")\n"
     ]
    }
   ],
   "source": [
    "input_dim = X.shape[-1]\n",
    "output_dim = 10\n",
    "class MLP(nn.Module):\n",
    "    def __init__(self):\n",
    "        super(MLP, self).__init__()\n",
    "        self.linear1 = nn.Linear(input_dim,250)\n",
    "        self.linear2 = nn.Linear(250,100)\n",
    "        self.linear3 = nn.Linear(100,output_dim)\n",
    "    \n",
    "    def forward(self,X):\n",
    "        X = F.relu(self.linear1(X))\n",
    "        X = F.relu(self.linear2(X))\n",
    "        X = self.linear3(X)\n",
    "        return F.log_softmax(X, dim=1)\n",
    " \n",
    "mlp = MLP()\n",
    "print(mlp)"
   ]
  },
  {
   "cell_type": "code",
   "execution_count": 8,
   "metadata": {},
   "outputs": [],
   "source": [
    "def fit(model, train_loader):\n",
    "    optimizer = torch.optim.Adam(model.parameters())\n",
    "    error = nn.CrossEntropyLoss()\n",
    "    EPOCHS = 5\n",
    "    model.train()\n",
    "    for epoch in range(EPOCHS):\n",
    "        correct = 0\n",
    "        for batch_idx, (X_batch, y_batch) in enumerate(train_loader):\n",
    "            var_X_batch = Variable(X_batch).float()\n",
    "            var_y_batch = Variable(y_batch)\n",
    "            optimizer.zero_grad()\n",
    "            output = model(var_X_batch)\n",
    "            loss = error(output, var_y_batch)\n",
    "            loss.backward()\n",
    "            optimizer.step()\n",
    "\n",
    "            # Total correct predictions\n",
    "            predicted = torch.max(output.data, 1)[1] \n",
    "            correct += (predicted == var_y_batch).sum()\n",
    "            #print(correct)\n",
    "            if batch_idx % 50 == 0:\n",
    "                print('Epoch : {} [{}/{} ({:.0f}%)]\\tLoss: {:.6f}\\t Accuracy:{:.3f}%'.format(\n",
    "                    epoch, batch_idx*len(X_batch), len(train_loader.dataset), 100.*batch_idx / len(train_loader), loss.data, float(correct*100) / float(BATCH_SIZE*(batch_idx+1))))"
   ]
  },
  {
   "cell_type": "code",
   "execution_count": 9,
   "metadata": {},
   "outputs": [
    {
     "name": "stdout",
     "output_type": "stream",
     "text": [
      "Epoch : 0 [0/35700 (0%)]\tLoss: 15.878024\t Accuracy:3.125%\n",
      "Epoch : 0 [1600/35700 (4%)]\tLoss: 0.591852\t Accuracy:67.463%\n",
      "Epoch : 0 [3200/35700 (9%)]\tLoss: 0.783195\t Accuracy:75.526%\n",
      "Epoch : 0 [4800/35700 (13%)]\tLoss: 0.529619\t Accuracy:79.222%\n",
      "Epoch : 0 [6400/35700 (18%)]\tLoss: 0.179729\t Accuracy:81.685%\n",
      "Epoch : 0 [8000/35700 (22%)]\tLoss: 0.625295\t Accuracy:83.329%\n",
      "Epoch : 0 [9600/35700 (27%)]\tLoss: 0.693083\t Accuracy:84.541%\n",
      "Epoch : 0 [11200/35700 (31%)]\tLoss: 0.217769\t Accuracy:85.328%\n",
      "Epoch : 0 [12800/35700 (36%)]\tLoss: 0.233654\t Accuracy:85.910%\n",
      "Epoch : 0 [14400/35700 (40%)]\tLoss: 0.217472\t Accuracy:86.537%\n",
      "Epoch : 0 [16000/35700 (45%)]\tLoss: 0.513734\t Accuracy:87.063%\n",
      "Epoch : 0 [17600/35700 (49%)]\tLoss: 0.524939\t Accuracy:87.511%\n",
      "Epoch : 0 [19200/35700 (54%)]\tLoss: 0.113853\t Accuracy:87.760%\n",
      "Epoch : 0 [20800/35700 (58%)]\tLoss: 0.413980\t Accuracy:88.110%\n",
      "Epoch : 0 [22400/35700 (63%)]\tLoss: 0.291666\t Accuracy:88.405%\n",
      "Epoch : 0 [24000/35700 (67%)]\tLoss: 0.313035\t Accuracy:88.765%\n",
      "Epoch : 0 [25600/35700 (72%)]\tLoss: 0.244497\t Accuracy:89.045%\n",
      "Epoch : 0 [27200/35700 (76%)]\tLoss: 0.085711\t Accuracy:89.354%\n",
      "Epoch : 0 [28800/35700 (81%)]\tLoss: 0.084314\t Accuracy:89.539%\n",
      "Epoch : 0 [30400/35700 (85%)]\tLoss: 0.456434\t Accuracy:89.734%\n",
      "Epoch : 0 [32000/35700 (90%)]\tLoss: 0.078515\t Accuracy:89.960%\n",
      "Epoch : 0 [33600/35700 (94%)]\tLoss: 0.049967\t Accuracy:90.158%\n",
      "Epoch : 0 [35200/35700 (99%)]\tLoss: 0.225198\t Accuracy:90.355%\n",
      "Epoch : 1 [0/35700 (0%)]\tLoss: 0.031064\t Accuracy:100.000%\n",
      "Epoch : 1 [1600/35700 (4%)]\tLoss: 0.254659\t Accuracy:94.792%\n",
      "Epoch : 1 [3200/35700 (9%)]\tLoss: 0.084824\t Accuracy:94.462%\n",
      "Epoch : 1 [4800/35700 (13%)]\tLoss: 0.223156\t Accuracy:94.433%\n",
      "Epoch : 1 [6400/35700 (18%)]\tLoss: 0.093699\t Accuracy:94.341%\n",
      "Epoch : 1 [8000/35700 (22%)]\tLoss: 0.349378\t Accuracy:94.186%\n",
      "Epoch : 1 [9600/35700 (27%)]\tLoss: 0.405387\t Accuracy:94.124%\n",
      "Epoch : 1 [11200/35700 (31%)]\tLoss: 0.143141\t Accuracy:94.222%\n",
      "Epoch : 1 [12800/35700 (36%)]\tLoss: 0.106206\t Accuracy:94.218%\n",
      "Epoch : 1 [14400/35700 (40%)]\tLoss: 0.006425\t Accuracy:94.346%\n",
      "Epoch : 1 [16000/35700 (45%)]\tLoss: 0.306649\t Accuracy:94.311%\n",
      "Epoch : 1 [17600/35700 (49%)]\tLoss: 0.393115\t Accuracy:94.363%\n",
      "Epoch : 1 [19200/35700 (54%)]\tLoss: 0.130902\t Accuracy:94.410%\n",
      "Epoch : 1 [20800/35700 (58%)]\tLoss: 0.084647\t Accuracy:94.566%\n",
      "Epoch : 1 [22400/35700 (63%)]\tLoss: 0.232673\t Accuracy:94.637%\n",
      "Epoch : 1 [24000/35700 (67%)]\tLoss: 0.118436\t Accuracy:94.724%\n",
      "Epoch : 1 [25600/35700 (72%)]\tLoss: 0.221722\t Accuracy:94.749%\n",
      "Epoch : 1 [27200/35700 (76%)]\tLoss: 0.193777\t Accuracy:94.804%\n",
      "Epoch : 1 [28800/35700 (81%)]\tLoss: 0.028956\t Accuracy:94.863%\n",
      "Epoch : 1 [30400/35700 (85%)]\tLoss: 0.244555\t Accuracy:94.894%\n",
      "Epoch : 1 [32000/35700 (90%)]\tLoss: 0.084364\t Accuracy:94.961%\n",
      "Epoch : 1 [33600/35700 (94%)]\tLoss: 0.210716\t Accuracy:94.963%\n",
      "Epoch : 1 [35200/35700 (99%)]\tLoss: 0.110485\t Accuracy:95.002%\n",
      "Epoch : 2 [0/35700 (0%)]\tLoss: 0.401287\t Accuracy:93.750%\n",
      "Epoch : 2 [1600/35700 (4%)]\tLoss: 0.189411\t Accuracy:95.343%\n",
      "Epoch : 2 [3200/35700 (9%)]\tLoss: 0.008422\t Accuracy:95.854%\n",
      "Epoch : 2 [4800/35700 (13%)]\tLoss: 0.042362\t Accuracy:96.192%\n",
      "Epoch : 2 [6400/35700 (18%)]\tLoss: 0.241360\t Accuracy:96.175%\n",
      "Epoch : 2 [8000/35700 (22%)]\tLoss: 0.456578\t Accuracy:95.829%\n",
      "Epoch : 2 [9600/35700 (27%)]\tLoss: 0.315612\t Accuracy:95.795%\n",
      "Epoch : 2 [11200/35700 (31%)]\tLoss: 0.261059\t Accuracy:95.691%\n",
      "Epoch : 2 [12800/35700 (36%)]\tLoss: 0.092441\t Accuracy:95.753%\n",
      "Epoch : 2 [14400/35700 (40%)]\tLoss: 0.017296\t Accuracy:95.697%\n",
      "Epoch : 2 [16000/35700 (45%)]\tLoss: 0.163931\t Accuracy:95.584%\n",
      "Epoch : 2 [17600/35700 (49%)]\tLoss: 0.330377\t Accuracy:95.605%\n",
      "Epoch : 2 [19200/35700 (54%)]\tLoss: 0.109994\t Accuracy:95.591%\n",
      "Epoch : 2 [20800/35700 (58%)]\tLoss: 0.073613\t Accuracy:95.656%\n",
      "Epoch : 2 [22400/35700 (63%)]\tLoss: 0.143365\t Accuracy:95.769%\n",
      "Epoch : 2 [24000/35700 (67%)]\tLoss: 0.025474\t Accuracy:95.826%\n",
      "Epoch : 2 [25600/35700 (72%)]\tLoss: 0.036838\t Accuracy:95.818%\n",
      "Epoch : 2 [27200/35700 (76%)]\tLoss: 0.029354\t Accuracy:95.891%\n",
      "Epoch : 2 [28800/35700 (81%)]\tLoss: 0.064070\t Accuracy:95.914%\n",
      "Epoch : 2 [30400/35700 (85%)]\tLoss: 0.111923\t Accuracy:95.942%\n",
      "Epoch : 2 [32000/35700 (90%)]\tLoss: 0.053527\t Accuracy:95.976%\n",
      "Epoch : 2 [33600/35700 (94%)]\tLoss: 0.062151\t Accuracy:95.938%\n",
      "Epoch : 2 [35200/35700 (99%)]\tLoss: 0.108962\t Accuracy:95.987%\n",
      "Epoch : 3 [0/35700 (0%)]\tLoss: 0.034563\t Accuracy:96.875%\n",
      "Epoch : 3 [1600/35700 (4%)]\tLoss: 0.097530\t Accuracy:95.772%\n",
      "Epoch : 3 [3200/35700 (9%)]\tLoss: 0.047142\t Accuracy:95.916%\n",
      "Epoch : 3 [4800/35700 (13%)]\tLoss: 0.050622\t Accuracy:96.109%\n",
      "Epoch : 3 [6400/35700 (18%)]\tLoss: 0.143793\t Accuracy:96.315%\n",
      "Epoch : 3 [8000/35700 (22%)]\tLoss: 0.706849\t Accuracy:96.315%\n",
      "Epoch : 3 [9600/35700 (27%)]\tLoss: 0.359394\t Accuracy:96.169%\n",
      "Epoch : 3 [11200/35700 (31%)]\tLoss: 0.340882\t Accuracy:96.109%\n",
      "Epoch : 3 [12800/35700 (36%)]\tLoss: 0.259388\t Accuracy:96.189%\n",
      "Epoch : 3 [14400/35700 (40%)]\tLoss: 0.020075\t Accuracy:96.258%\n",
      "Epoch : 3 [16000/35700 (45%)]\tLoss: 0.054094\t Accuracy:96.233%\n",
      "Epoch : 3 [17600/35700 (49%)]\tLoss: 0.453795\t Accuracy:96.149%\n",
      "Epoch : 3 [19200/35700 (54%)]\tLoss: 0.199933\t Accuracy:96.147%\n",
      "Epoch : 3 [20800/35700 (58%)]\tLoss: 0.248840\t Accuracy:96.213%\n",
      "Epoch : 3 [22400/35700 (63%)]\tLoss: 0.036283\t Accuracy:96.238%\n",
      "Epoch : 3 [24000/35700 (67%)]\tLoss: 0.073086\t Accuracy:96.338%\n",
      "Epoch : 3 [25600/35700 (72%)]\tLoss: 0.021111\t Accuracy:96.348%\n",
      "Epoch : 3 [27200/35700 (76%)]\tLoss: 0.045226\t Accuracy:96.401%\n",
      "Epoch : 3 [28800/35700 (81%)]\tLoss: 0.015997\t Accuracy:96.459%\n",
      "Epoch : 3 [30400/35700 (85%)]\tLoss: 0.096387\t Accuracy:96.474%\n",
      "Epoch : 3 [32000/35700 (90%)]\tLoss: 0.011263\t Accuracy:96.488%\n",
      "Epoch : 3 [33600/35700 (94%)]\tLoss: 0.053692\t Accuracy:96.494%\n",
      "Epoch : 3 [35200/35700 (99%)]\tLoss: 0.109832\t Accuracy:96.534%\n",
      "Epoch : 4 [0/35700 (0%)]\tLoss: 0.033572\t Accuracy:96.875%\n",
      "Epoch : 4 [1600/35700 (4%)]\tLoss: 0.135926\t Accuracy:96.507%\n",
      "Epoch : 4 [3200/35700 (9%)]\tLoss: 0.029713\t Accuracy:96.194%\n",
      "Epoch : 4 [4800/35700 (13%)]\tLoss: 0.072946\t Accuracy:96.358%\n",
      "Epoch : 4 [6400/35700 (18%)]\tLoss: 0.190877\t Accuracy:96.346%\n",
      "Epoch : 4 [8000/35700 (22%)]\tLoss: 0.496058\t Accuracy:96.365%\n",
      "Epoch : 4 [9600/35700 (27%)]\tLoss: 0.016650\t Accuracy:96.346%\n",
      "Epoch : 4 [11200/35700 (31%)]\tLoss: 0.062089\t Accuracy:96.278%\n",
      "Epoch : 4 [12800/35700 (36%)]\tLoss: 0.097039\t Accuracy:96.298%\n",
      "Epoch : 4 [14400/35700 (40%)]\tLoss: 0.006048\t Accuracy:96.300%\n",
      "Epoch : 4 [16000/35700 (45%)]\tLoss: 0.311072\t Accuracy:96.245%\n",
      "Epoch : 4 [17600/35700 (49%)]\tLoss: 0.344583\t Accuracy:96.297%\n",
      "Epoch : 4 [19200/35700 (54%)]\tLoss: 0.071245\t Accuracy:96.313%\n",
      "Epoch : 4 [20800/35700 (58%)]\tLoss: 0.036842\t Accuracy:96.385%\n",
      "Epoch : 4 [22400/35700 (63%)]\tLoss: 0.101760\t Accuracy:96.416%\n",
      "Epoch : 4 [24000/35700 (67%)]\tLoss: 0.005955\t Accuracy:96.476%\n",
      "Epoch : 4 [25600/35700 (72%)]\tLoss: 0.065845\t Accuracy:96.497%\n",
      "Epoch : 4 [27200/35700 (76%)]\tLoss: 0.014497\t Accuracy:96.545%\n",
      "Epoch : 4 [28800/35700 (81%)]\tLoss: 0.015002\t Accuracy:96.625%\n",
      "Epoch : 4 [30400/35700 (85%)]\tLoss: 0.058196\t Accuracy:96.632%\n",
      "Epoch : 4 [32000/35700 (90%)]\tLoss: 0.046609\t Accuracy:96.644%\n",
      "Epoch : 4 [33600/35700 (94%)]\tLoss: 0.010121\t Accuracy:96.652%\n",
      "Epoch : 4 [35200/35700 (99%)]\tLoss: 0.019214\t Accuracy:96.716%\n"
     ]
    }
   ],
   "source": [
    "fit(mlp, train_loader)"
   ]
  },
  {
   "cell_type": "code",
   "execution_count": 10,
   "metadata": {},
   "outputs": [
    {
     "name": "stdout",
     "output_type": "stream",
     "text": [
      "9\n",
      "tensor(9)\n"
     ]
    },
    {
     "data": {
      "image/png": "[encoded data removed]",
      "text/plain": [
       "<Figure size 432x288 with 1 Axes>"
      ]
     },
     "metadata": {
      "needs_background": "light"
     },
     "output_type": "display_data"
    }
   ],
   "source": [
    "mlp.eval()              # turn the model to evaluate mode\n",
    "index = 200\n",
    "torch_X_test = torch.from_numpy(X_test).type(torch.LongTensor)\n",
    "image = torch_X_test[index].float().unsqueeze(0)\n",
    "true_label = y_test[index]\n",
    "with torch.no_grad():     # does not calculate gradient\n",
    "    class_index = mlp(image).argmax()   #gets the prediction for the image's class\n",
    "plt.imshow(image.numpy().reshape(28,28,1), cmap='gray_r');\n",
    "print(true_label)\n",
    "print(class_index)"
   ]
  },
  {
   "cell_type": "code",
   "execution_count": 11,
   "metadata": {},
   "outputs": [
    {
     "name": "stdout",
     "output_type": "stream",
     "text": [
      "torch.Size([35700, 1, 28, 28])\n",
      "torch.Size([6300, 1, 28, 28])\n"
     ]
    }
   ],
   "source": [
    "torch_X_train = torch_X_train.view(-1, 1,28,28).float()\n",
    "torch_X_test = torch_X_test.view(-1,1,28,28).float()\n",
    "print(torch_X_train.shape)\n",
    "print(torch_X_test.shape)\n",
    "\n",
    "# Pytorch train and test sets\n",
    "train = torch.utils.data.TensorDataset(torch_X_train,torch_y_train)\n",
    "test = torch.utils.data.TensorDataset(torch_X_test,torch_y_test)\n",
    "\n",
    "# data loader\n",
    "train_loader = torch.utils.data.DataLoader(train, batch_size = BATCH_SIZE, shuffle = False)\n",
    "test_loader = torch.utils.data.DataLoader(test, batch_size = BATCH_SIZE, shuffle = False)"
   ]
  },
  {
   "cell_type": "code",
   "execution_count": 12,
   "metadata": {},
   "outputs": [
    {
     "name": "stdout",
     "output_type": "stream",
     "text": [
      "CNN(\n",
      "  (conv1): Conv2d(1, 32, kernel_size=(5, 5), stride=(1, 1))\n",
      "  (conv2): Conv2d(32, 32, kernel_size=(5, 5), stride=(1, 1))\n",
      "  (conv3): Conv2d(32, 64, kernel_size=(5, 5), stride=(1, 1))\n",
      "  (fc1): Linear(in_features=576, out_features=256, bias=True)\n",
      "  (fc2): Linear(in_features=256, out_features=10, bias=True)\n",
      ")\n",
      "torch.Size([32, 10])\n"
     ]
    }
   ],
   "source": [
    "class CNN(nn.Module):\n",
    "    def __init__(self):\n",
    "        super(CNN, self).__init__()\n",
    "        self.conv1 = nn.Conv2d(1, 32, kernel_size=5)\n",
    "        self.conv2 = nn.Conv2d(32, 32, kernel_size=5)\n",
    "        self.conv3 = nn.Conv2d(32,64, kernel_size=5)\n",
    "        self.fc1 = nn.Linear(3*3*64, 256)\n",
    "        self.fc2 = nn.Linear(256, 10)\n",
    "\n",
    "    def forward(self, x):\n",
    "        x = F.relu(self.conv1(x))\n",
    "        x = F.relu(F.max_pool2d(self.conv2(x), 2))\n",
    "        x = F.dropout(x, p=0.5, training=self.training)\n",
    "        x = F.relu(F.max_pool2d(self.conv3(x),2))\n",
    "        x = F.dropout(x, p=0.5, training=self.training)\n",
    "        x = x.view(-1,3*3*64 )\n",
    "        x = F.relu(self.fc1(x))\n",
    "        x = F.dropout(x, training=self.training)\n",
    "        x = self.fc2(x)\n",
    "        return F.log_softmax(x, dim=1)\n",
    " \n",
    "cnn = CNN()\n",
    "print(cnn)\n",
    "\n",
    "it = iter(train_loader)\n",
    "X_batch, y_batch = next(it)\n",
    "print(cnn.forward(X_batch).shape)"
   ]
  },
  {
   "cell_type": "code",
   "execution_count": 13,
   "metadata": {},
   "outputs": [
    {
     "name": "stdout",
     "output_type": "stream",
     "text": [
      "Epoch : 0 [0/35700 (0%)]\tLoss: 17.491018\t Accuracy:9.375%\n",
      "Epoch : 0 [1600/35700 (4%)]\tLoss: 1.703722\t Accuracy:17.770%\n",
      "Epoch : 0 [3200/35700 (9%)]\tLoss: 1.009868\t Accuracy:34.251%\n",
      "Epoch : 0 [4800/35700 (13%)]\tLoss: 1.154488\t Accuracy:45.840%\n",
      "Epoch : 0 [6400/35700 (18%)]\tLoss: 1.056982\t Accuracy:54.011%\n",
      "Epoch : 0 [8000/35700 (22%)]\tLoss: 0.627523\t Accuracy:59.512%\n",
      "Epoch : 0 [9600/35700 (27%)]\tLoss: 0.358505\t Accuracy:63.320%\n",
      "Epoch : 0 [11200/35700 (31%)]\tLoss: 0.132880\t Accuracy:66.524%\n",
      "Epoch : 0 [12800/35700 (36%)]\tLoss: 0.220809\t Accuracy:69.038%\n",
      "Epoch : 0 [14400/35700 (40%)]\tLoss: 0.289793\t Accuracy:71.161%\n",
      "Epoch : 0 [16000/35700 (45%)]\tLoss: 0.346210\t Accuracy:72.861%\n",
      "Epoch : 0 [17600/35700 (49%)]\tLoss: 0.682445\t Accuracy:74.399%\n",
      "Epoch : 0 [19200/35700 (54%)]\tLoss: 0.371773\t Accuracy:75.655%\n",
      "Epoch : 0 [20800/35700 (58%)]\tLoss: 0.149076\t Accuracy:76.858%\n",
      "Epoch : 0 [22400/35700 (63%)]\tLoss: 0.321230\t Accuracy:77.920%\n",
      "Epoch : 0 [24000/35700 (67%)]\tLoss: 0.369620\t Accuracy:78.812%\n",
      "Epoch : 0 [25600/35700 (72%)]\tLoss: 0.188525\t Accuracy:79.545%\n",
      "Epoch : 0 [27200/35700 (76%)]\tLoss: 0.316570\t Accuracy:80.266%\n",
      "Epoch : 0 [28800/35700 (81%)]\tLoss: 0.388716\t Accuracy:80.900%\n",
      "Epoch : 0 [30400/35700 (85%)]\tLoss: 0.355938\t Accuracy:81.519%\n",
      "Epoch : 0 [32000/35700 (90%)]\tLoss: 0.035882\t Accuracy:82.018%\n",
      "Epoch : 0 [33600/35700 (94%)]\tLoss: 0.167438\t Accuracy:82.475%\n",
      "Epoch : 0 [35200/35700 (99%)]\tLoss: 0.383795\t Accuracy:82.888%\n",
      "Epoch : 1 [0/35700 (0%)]\tLoss: 0.435282\t Accuracy:90.625%\n",
      "Epoch : 1 [1600/35700 (4%)]\tLoss: 0.145045\t Accuracy:92.402%\n",
      "Epoch : 1 [3200/35700 (9%)]\tLoss: 0.210413\t Accuracy:92.420%\n",
      "Epoch : 1 [4800/35700 (13%)]\tLoss: 0.263403\t Accuracy:92.384%\n",
      "Epoch : 1 [6400/35700 (18%)]\tLoss: 0.281719\t Accuracy:92.631%\n",
      "Epoch : 1 [8000/35700 (22%)]\tLoss: 0.687903\t Accuracy:92.779%\n",
      "Epoch : 1 [9600/35700 (27%)]\tLoss: 0.281953\t Accuracy:92.816%\n",
      "Epoch : 1 [11200/35700 (31%)]\tLoss: 0.427460\t Accuracy:92.904%\n",
      "Epoch : 1 [12800/35700 (36%)]\tLoss: 0.129305\t Accuracy:92.908%\n",
      "Epoch : 1 [14400/35700 (40%)]\tLoss: 0.069423\t Accuracy:92.925%\n",
      "Epoch : 1 [16000/35700 (45%)]\tLoss: 0.113218\t Accuracy:92.958%\n",
      "Epoch : 1 [17600/35700 (49%)]\tLoss: 0.321160\t Accuracy:93.041%\n",
      "Epoch : 1 [19200/35700 (54%)]\tLoss: 0.301912\t Accuracy:93.006%\n",
      "Epoch : 1 [20800/35700 (58%)]\tLoss: 0.145145\t Accuracy:93.078%\n",
      "Epoch : 1 [22400/35700 (63%)]\tLoss: 0.131641\t Accuracy:93.179%\n",
      "Epoch : 1 [24000/35700 (67%)]\tLoss: 0.202060\t Accuracy:93.313%\n",
      "Epoch : 1 [25600/35700 (72%)]\tLoss: 0.167930\t Accuracy:93.313%\n",
      "Epoch : 1 [27200/35700 (76%)]\tLoss: 0.170522\t Accuracy:93.372%\n",
      "Epoch : 1 [28800/35700 (81%)]\tLoss: 0.234927\t Accuracy:93.417%\n",
      "Epoch : 1 [30400/35700 (85%)]\tLoss: 0.282239\t Accuracy:93.451%\n",
      "Epoch : 1 [32000/35700 (90%)]\tLoss: 0.048641\t Accuracy:93.485%\n",
      "Epoch : 1 [33600/35700 (94%)]\tLoss: 0.103245\t Accuracy:93.512%\n",
      "Epoch : 1 [35200/35700 (99%)]\tLoss: 0.095123\t Accuracy:93.583%\n",
      "Epoch : 2 [0/35700 (0%)]\tLoss: 0.143320\t Accuracy:96.875%\n",
      "Epoch : 2 [1600/35700 (4%)]\tLoss: 0.231555\t Accuracy:94.975%\n",
      "Epoch : 2 [3200/35700 (9%)]\tLoss: 0.017496\t Accuracy:94.709%\n",
      "Epoch : 2 [4800/35700 (13%)]\tLoss: 0.127452\t Accuracy:94.454%\n",
      "Epoch : 2 [6400/35700 (18%)]\tLoss: 0.178156\t Accuracy:94.481%\n",
      "Epoch : 2 [8000/35700 (22%)]\tLoss: 0.191689\t Accuracy:94.360%\n",
      "Epoch : 2 [9600/35700 (27%)]\tLoss: 0.163249\t Accuracy:94.300%\n",
      "Epoch : 2 [11200/35700 (31%)]\tLoss: 0.158045\t Accuracy:94.382%\n",
      "Epoch : 2 [12800/35700 (36%)]\tLoss: 0.163277\t Accuracy:94.412%\n",
      "Epoch : 2 [14400/35700 (40%)]\tLoss: 0.131232\t Accuracy:94.436%\n",
      "Epoch : 2 [16000/35700 (45%)]\tLoss: 0.384372\t Accuracy:94.442%\n",
      "Epoch : 2 [17600/35700 (49%)]\tLoss: 0.434954\t Accuracy:94.419%\n",
      "Epoch : 2 [19200/35700 (54%)]\tLoss: 0.506953\t Accuracy:94.374%\n",
      "Epoch : 2 [20800/35700 (58%)]\tLoss: 0.042175\t Accuracy:94.302%\n",
      "Epoch : 2 [22400/35700 (63%)]\tLoss: 0.248954\t Accuracy:94.334%\n",
      "Epoch : 2 [24000/35700 (67%)]\tLoss: 0.117976\t Accuracy:94.391%\n",
      "Epoch : 2 [25600/35700 (72%)]\tLoss: 0.097598\t Accuracy:94.417%\n",
      "Epoch : 2 [27200/35700 (76%)]\tLoss: 0.245276\t Accuracy:94.418%\n",
      "Epoch : 2 [28800/35700 (81%)]\tLoss: 0.291835\t Accuracy:94.423%\n",
      "Epoch : 2 [30400/35700 (85%)]\tLoss: 0.174631\t Accuracy:94.456%\n",
      "Epoch : 2 [32000/35700 (90%)]\tLoss: 0.123771\t Accuracy:94.481%\n",
      "Epoch : 2 [33600/35700 (94%)]\tLoss: 0.009071\t Accuracy:94.505%\n",
      "Epoch : 2 [35200/35700 (99%)]\tLoss: 0.140799\t Accuracy:94.516%\n",
      "Epoch : 3 [0/35700 (0%)]\tLoss: 0.369417\t Accuracy:93.750%\n",
      "Epoch : 3 [1600/35700 (4%)]\tLoss: 0.223454\t Accuracy:94.179%\n",
      "Epoch : 3 [3200/35700 (9%)]\tLoss: 0.100380\t Accuracy:93.750%\n",
      "Epoch : 3 [4800/35700 (13%)]\tLoss: 0.103476\t Accuracy:94.185%\n",
      "Epoch : 3 [6400/35700 (18%)]\tLoss: 0.227542\t Accuracy:94.201%\n",
      "Epoch : 3 [8000/35700 (22%)]\tLoss: 0.205988\t Accuracy:94.460%\n",
      "Epoch : 3 [9600/35700 (27%)]\tLoss: 0.142538\t Accuracy:94.466%\n",
      "Epoch : 3 [11200/35700 (31%)]\tLoss: 0.432713\t Accuracy:94.569%\n",
      "Epoch : 3 [12800/35700 (36%)]\tLoss: 0.086672\t Accuracy:94.568%\n",
      "Epoch : 3 [14400/35700 (40%)]\tLoss: 0.094293\t Accuracy:94.581%\n",
      "Epoch : 3 [16000/35700 (45%)]\tLoss: 0.143815\t Accuracy:94.492%\n",
      "Epoch : 3 [17600/35700 (49%)]\tLoss: 0.359636\t Accuracy:94.595%\n",
      "Epoch : 3 [19200/35700 (54%)]\tLoss: 0.317731\t Accuracy:94.561%\n",
      "Epoch : 3 [20800/35700 (58%)]\tLoss: 0.009242\t Accuracy:94.643%\n",
      "Epoch : 3 [22400/35700 (63%)]\tLoss: 0.103791\t Accuracy:94.766%\n",
      "Epoch : 3 [24000/35700 (67%)]\tLoss: 0.084121\t Accuracy:94.815%\n",
      "Epoch : 3 [25600/35700 (72%)]\tLoss: 0.143214\t Accuracy:94.819%\n",
      "Epoch : 3 [27200/35700 (76%)]\tLoss: 0.102264\t Accuracy:94.859%\n",
      "Epoch : 3 [28800/35700 (81%)]\tLoss: 0.186154\t Accuracy:94.856%\n",
      "Epoch : 3 [30400/35700 (85%)]\tLoss: 0.088187\t Accuracy:94.867%\n",
      "Epoch : 3 [32000/35700 (90%)]\tLoss: 0.044488\t Accuracy:94.849%\n",
      "Epoch : 3 [33600/35700 (94%)]\tLoss: 0.138897\t Accuracy:94.892%\n",
      "Epoch : 3 [35200/35700 (99%)]\tLoss: 0.095473\t Accuracy:94.928%\n",
      "Epoch : 4 [0/35700 (0%)]\tLoss: 0.271261\t Accuracy:90.625%\n",
      "Epoch : 4 [1600/35700 (4%)]\tLoss: 0.115738\t Accuracy:95.588%\n",
      "Epoch : 4 [3200/35700 (9%)]\tLoss: 0.017479\t Accuracy:96.009%\n",
      "Epoch : 4 [4800/35700 (13%)]\tLoss: 0.512698\t Accuracy:95.944%\n",
      "Epoch : 4 [6400/35700 (18%)]\tLoss: 0.209025\t Accuracy:95.600%\n",
      "Epoch : 4 [8000/35700 (22%)]\tLoss: 0.492747\t Accuracy:95.605%\n",
      "Epoch : 4 [9600/35700 (27%)]\tLoss: 0.078214\t Accuracy:95.546%\n",
      "Epoch : 4 [11200/35700 (31%)]\tLoss: 0.037404\t Accuracy:95.522%\n",
      "Epoch : 4 [12800/35700 (36%)]\tLoss: 0.010457\t Accuracy:95.597%\n",
      "Epoch : 4 [14400/35700 (40%)]\tLoss: 0.114197\t Accuracy:95.621%\n",
      "Epoch : 4 [16000/35700 (45%)]\tLoss: 0.114526\t Accuracy:95.696%\n",
      "Epoch : 4 [17600/35700 (49%)]\tLoss: 0.364283\t Accuracy:95.678%\n",
      "Epoch : 4 [19200/35700 (54%)]\tLoss: 0.090061\t Accuracy:95.632%\n",
      "Epoch : 4 [20800/35700 (58%)]\tLoss: 0.039895\t Accuracy:95.646%\n",
      "Epoch : 4 [22400/35700 (63%)]\tLoss: 0.382673\t Accuracy:95.707%\n",
      "Epoch : 4 [24000/35700 (67%)]\tLoss: 0.020053\t Accuracy:95.706%\n",
      "Epoch : 4 [25600/35700 (72%)]\tLoss: 0.175055\t Accuracy:95.681%\n",
      "Epoch : 4 [27200/35700 (76%)]\tLoss: 0.168504\t Accuracy:95.656%\n",
      "Epoch : 4 [28800/35700 (81%)]\tLoss: 0.211810\t Accuracy:95.682%\n",
      "Epoch : 4 [30400/35700 (85%)]\tLoss: 0.367221\t Accuracy:95.662%\n",
      "Epoch : 4 [32000/35700 (90%)]\tLoss: 0.054837\t Accuracy:95.692%\n",
      "Epoch : 4 [33600/35700 (94%)]\tLoss: 0.087515\t Accuracy:95.689%\n",
      "Epoch : 4 [35200/35700 (99%)]\tLoss: 0.093070\t Accuracy:95.672%\n"
     ]
    }
   ],
   "source": [
    "fit(cnn,train_loader)"
   ]
  },
  {
   "cell_type": "code",
   "execution_count": 14,
   "metadata": {},
   "outputs": [
    {
     "name": "stdout",
     "output_type": "stream",
     "text": [
      "6\n",
      "tensor(6)\n"
     ]
    },
    {
     "data": {
      "image/png": "[encoded data removed]",
      "text/plain": [
       "<Figure size 432x288 with 1 Axes>"
      ]
     },
     "metadata": {
      "needs_background": "light"
     },
     "output_type": "display_data"
    }
   ],
   "source": [
    "cnn.eval()              # turn the model to evaluate mode\n",
    "index = 100\n",
    "torch_X_test = torch_X_test.view(-1,1,28,28).float().type(torch.LongTensor)\n",
    "image = torch_X_test[index].float().unsqueeze(0)\n",
    "true_label = y_test[index]\n",
    "with torch.no_grad():     # does not calculate gradient\n",
    "    class_index = cnn(image).argmax()   #gets the prediction for the image's class\n",
    "plt.imshow(image.numpy().reshape(28,28,1), cmap='gray_r');\n",
    "print(true_label)\n",
    "print(class_index)"
   ]
  },
  {
   "cell_type": "markdown",
   "metadata": {},
   "source": [
    "Describe the performance of the MLP and CNN models? Performance can include training time, accuracy, etc."
   ]
  },
  {
   "cell_type": "markdown",
   "metadata": {},
   "source": [
    "## MLP vs. CNN\n",
    "The training time for MLP is much faster than for CNN. The accuracy of the model also increases faster for MLP than for CNN, implying that it converges faster. If we look at the output where each line represents 50 batches, both models start at around 15%, and MLP jumps to about 60-70% in the next printed line. CNN takes about 7 lines to get to that value. Additionally, MLP seems to achieve higher accuracy. Even after 150 epochs, the CNN remains at about 96-97% accuracy, while the MLP achieves 99% accuracy. The good performance of the MLP is likely the result of this dataset being simple images that are very similar to each other (same size, similar pixels tend to be the ones that are shaded, etc.). For more complex image tasks, the CNN is likely to outper"
   ]
  },
  {
   "cell_type": "markdown",
   "metadata": {},
   "source": [
    "Extra Credit: Describe the below code and the output"
   ]
  },
  {
   "cell_type": "markdown",
   "metadata": {},
   "source": [
    "This code modifies the gradients in the x tensor so it misclassifies a digit. It first gets the model's inference for the image at index 100 by calculating the logit output and getting the argmax. It then loops, and in each iteration calculates the inference/logits/argmax. The first time they are going to be the same as what was calculated before the loop, so it will not satisfy the if statement and thus not break. The code then modifies the logits at the predicted digit index and calculates the loss, updating the gradients. These updates eventually cause the model to update the weights such that the inference for that image, and likely for images similar to that one, to be wrong."
   ]
  },
  {
   "cell_type": "code",
   "execution_count": 30,
   "metadata": {},
   "outputs": [
    {
     "name": "stdout",
     "output_type": "stream",
     "text": [
      "Init idx: 6\n",
      "9.713150024414062 -9.870042413240299e-05 -9.713248252868652\n",
      "\n",
      "Job done, breaking\n",
      "tensor([-2.1283, -2.0920, -2.2709, -2.4545, -2.4132, -2.5092, -2.5033, -2.3471,\n",
      "        -2.1452, -2.2729])\n"
     ]
    },
    {
     "data": {
      "text/plain": [
       "1"
      ]
     },
     "execution_count": 30,
     "metadata": {},
     "output_type": "execute_result"
    },
    {
     "data": {
      "image/png": "[encoded data removed]",
      "text/plain": [
       "<Figure size 432x288 with 1 Axes>"
      ]
     },
     "metadata": {
      "needs_background": "light"
     },
     "output_type": "display_data"
    }
   ],
   "source": [
    "model = cnn\n",
    "#torch_X_test = torch_X_test.view(-1,1,28,28).float().type(torch.LongTensor)\n",
    "x = torch_X_test[index].float().clone()\n",
    "x.requires_grad_(True)\n",
    "with torch.no_grad():\n",
    "    logits = model(x.unsqueeze(0)).squeeze()\n",
    "    IMX = torch.argmax(logits)\n",
    "print(\"Init idx:\",IMX.item())\n",
    "\n",
    "lr=.01\n",
    "while True:\n",
    "    logits = model(x.unsqueeze(0)).squeeze()\n",
    "    \n",
    "    imx = torch.argmax(logits)\n",
    "    if imx!=IMX: \n",
    "        print(\"Job done, breaking\")\n",
    "        break\n",
    "    y = logits.clone()\n",
    "    y[imx] = -99\n",
    "    loss = logits.max() - y.max() \n",
    "    loss.backward()\n",
    "    \n",
    "    \n",
    "    x.data.sub_(lr*x.grad.data)\n",
    "    print(loss.item(),logits.max().item(), y.max().item() )\n",
    "    print()\n",
    "    x.grad.data.zero_()\n",
    "    x.data.sub_(x.data.min())\n",
    "    x.data.mul_(1/x.data.max())\n",
    "    \n",
    "with torch.no_grad():\n",
    "    print(model(x.unsqueeze(0)).squeeze())\n",
    "\n",
    "plt.imshow(x.detach().cpu().numpy().transpose(1,2,0).reshape(28,28));torch.argmax(model(x.unsqueeze(0))).item()"
   ]
  },
  {
   "cell_type": "code",
   "execution_count": null,
   "metadata": {},
   "outputs": [],
   "source": []
  }
 ],
 "metadata": {
  "kernelspec": {
   "display_name": "Python 3 (ipykernel)",
   "language": "python",
   "name": "python3"
  },
  "language_info": {
   "codemirror_mode": {
    "name": "ipython",
    "version": 3
   },
   "file_extension": ".py",
   "mimetype": "text/x-python",
   "name": "python",
   "nbconvert_exporter": "python",
   "pygments_lexer": "ipython3",
   "version": "3.8.10"
  }
 },
 "nbformat": 4,
 "nbformat_minor": 4
}
